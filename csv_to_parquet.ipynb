{
 "cells": [
  {
   "cell_type": "markdown",
   "metadata": {
    "ayx": {
     "cell_class": "text_cell",
     "cell_css": "border: 3px solid #357; margin: 4px; background: #fbffff",
     "cell_type": "markdown",
     "contents_keyword": "Alteryx.help()",
     "first_line": "Run `Alteryx.help()` for info about useful functions.",
     "label": "info"
    }
   },
   "source": [
    "Run `Alteryx.help()` for info about useful functions.  \n",
    "i.e., `Alteryx.read(\"#1\")`, `Alteryx.write(df,1)`, `Alteryx.getWorkflowConstant(\"Engine.WorkflowDirectory\")`"
   ]
  },
  {
   "cell_type": "code",
   "execution_count": null,
   "metadata": {
    "ayx": {
     "cell_class": "code_cell",
     "cell_css": "border: 1px solid #58a; margin: 2px;",
     "cell_type": "code",
     "contents_keyword": "installPackages",
     "first_line": "# List all non-standard packages to be imported by your",
     "label": "deps"
    }
   },
   "outputs": [],
   "source": [
    "#################################\n",
    "# List all non-standard packages to be imported by your \n",
    "# script here (only missing packages will be installed)\n",
    "from ayx import Package\n",
    "# Did you setup Designer as an \"admin install\"? Then you MUST\n",
    "# launch Designer via \"Run as Administrator\" in order for \n",
    "# installPackages to work....\n",
    "Package.installPackages(['pyarrow'])"
   ]
  },
  {
   "cell_type": "code",
   "execution_count": null,
   "metadata": {},
   "outputs": [],
   "source": [
    "#################################\n",
    "from ayx import Alteryx\n",
    "from pyarrow import csv\n",
    "import pyarrow.parquet as pq\n",
    "\n",
    "source = 'C:/addresses.csv'\n",
    "table = csv.read_csv(source)\n",
    "pq.write_table(table, 'c:/addresses.parquet') \n"
   ]
  }
 ],
 "metadata": {
  "kernelspec": {
   "display_name": "Python 3",
   "language": "python",
   "name": "python3"
  },
  "language_info": {
   "codemirror_mode": {
    "name": "ipython",
    "version": 3
   },
   "file_extension": ".py",
   "mimetype": "text/x-python",
   "name": "python",
   "nbconvert_exporter": "python",
   "pygments_lexer": "ipython3",
   "version": "3.6.0"
  }
 },
 "nbformat": 4,
 "nbformat_minor": 2
}
