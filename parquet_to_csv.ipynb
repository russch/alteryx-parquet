{
 "cells": [
  {
   "cell_type": "code",
   "execution_count": null,
   "metadata": {
    "ayx": {
     "cell_class": "code_cell",
     "cell_css": "border: 1px solid #58a; margin: 2px;",
     "cell_type": "code",
     "contents_keyword": "installPackages",
     "first_line": "# List all non-standard packages to be imported by your",
     "label": "deps"
    }
   },
   "outputs": [],
   "source": [
    "# List all non-standard packages to be imported by your \n",
    "# script here (only missing packages will be installed)\n",
    "from ayx import Package\n",
    "Package.installPackages(['pyarrow'])"
   ]
  },
  {
   "cell_type": "code",
   "execution_count": null,
   "metadata": {},
   "outputs": [],
   "source": [
    "from ayx import Alteryx\n",
    "import pyarrow.parquet as pq\n",
    "import pandas\n",
    "\n",
    "df = pq.ParquetDataset('c:\\\\addresses.parquet').read_pandas().to_pandas()\n",
    "# Write to output #1\n",
    "Alteryx.write(df,1)\n",
    "\n"
   ]
  },
  {
   "cell_type": "code",
   "execution_count": null,
   "metadata": {},
   "outputs": [],
   "source": []
  }
 ],
 "metadata": {
  "kernelspec": {
   "display_name": "Python 3",
   "language": "python",
   "name": "python3"
  },
  "language_info": {
   "codemirror_mode": {
    "name": "ipython",
    "version": 3
   },
   "file_extension": ".py",
   "mimetype": "text/x-python",
   "name": "python",
   "nbconvert_exporter": "python",
   "pygments_lexer": "ipython3",
   "version": "3.6.0"
  }
 },
 "nbformat": 4,
 "nbformat_minor": 2
}
